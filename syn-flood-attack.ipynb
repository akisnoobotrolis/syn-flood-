{
 "cells": [
  {
   "cell_type": "code",
   "execution_count": 13,
   "metadata": {},
   "outputs": [],
   "source": [
    "import numpy as np\n",
    "import matplotlib.pyplot as plt\n",
    "import pandas as pd\n",
    "import seaborn as sns"
   ]
  },
  {
   "cell_type": "code",
   "execution_count": 14,
   "metadata": {},
   "outputs": [],
   "source": [
    "%matplotlib inline"
   ]
  },
  {
   "cell_type": "code",
   "execution_count": 15,
   "metadata": {},
   "outputs": [],
   "source": [
    "df = pd.read_csv('sdn-ddos-tcp-syn-dataset.csv')"
   ]
  },
  {
   "cell_type": "code",
   "execution_count": 16,
   "metadata": {},
   "outputs": [
    {
     "data": {
      "text/html": [
       "<div>\n",
       "<style scoped>\n",
       "    .dataframe tbody tr th:only-of-type {\n",
       "        vertical-align: middle;\n",
       "    }\n",
       "\n",
       "    .dataframe tbody tr th {\n",
       "        vertical-align: top;\n",
       "    }\n",
       "\n",
       "    .dataframe thead th {\n",
       "        text-align: right;\n",
       "    }\n",
       "</style>\n",
       "<table border=\"1\" class=\"dataframe\">\n",
       "  <thead>\n",
       "    <tr style=\"text-align: right;\">\n",
       "      <th></th>\n",
       "      <th>frame number</th>\n",
       "      <th>eth src</th>\n",
       "      <th>eth dst</th>\n",
       "      <th>eth type</th>\n",
       "      <th>ip hdr_len</th>\n",
       "      <th>ip len</th>\n",
       "      <th>ip id</th>\n",
       "      <th>ip flags</th>\n",
       "      <th>ip ttl</th>\n",
       "      <th>ip proto</th>\n",
       "      <th>...</th>\n",
       "      <th>tcp ack</th>\n",
       "      <th>tcp hdr_len</th>\n",
       "      <th>tcp flags</th>\n",
       "      <th>tcp window_size_value</th>\n",
       "      <th>tcp window_size</th>\n",
       "      <th>tcp payload</th>\n",
       "      <th>tcp analysis.bytes_in_flight</th>\n",
       "      <th>tcp analysis.push_bytes_sent</th>\n",
       "      <th>frame len</th>\n",
       "      <th>label</th>\n",
       "    </tr>\n",
       "  </thead>\n",
       "  <tbody>\n",
       "    <tr>\n",
       "      <th>0</th>\n",
       "      <td>1</td>\n",
       "      <td>00:00:00:00:00:01</td>\n",
       "      <td>00:00:00:00:00:19</td>\n",
       "      <td>0x00000800</td>\n",
       "      <td>20.0</td>\n",
       "      <td>67.0</td>\n",
       "      <td>0x00000001</td>\n",
       "      <td>0x00000000</td>\n",
       "      <td>64.0</td>\n",
       "      <td>6.0</td>\n",
       "      <td>...</td>\n",
       "      <td>0.0</td>\n",
       "      <td>20.0</td>\n",
       "      <td>0x00000002</td>\n",
       "      <td>8192.0</td>\n",
       "      <td>8192.0</td>\n",
       "      <td>79:6f:75:20:61:72:65:20:75:6e:64:65:72:20:61:2...</td>\n",
       "      <td>28.0</td>\n",
       "      <td>27.0</td>\n",
       "      <td>81</td>\n",
       "      <td>ddos</td>\n",
       "    </tr>\n",
       "    <tr>\n",
       "      <th>1</th>\n",
       "      <td>2</td>\n",
       "      <td>00:00:00:00:00:01</td>\n",
       "      <td>00:00:00:00:00:19</td>\n",
       "      <td>0x00000800</td>\n",
       "      <td>20.0</td>\n",
       "      <td>67.0</td>\n",
       "      <td>0x00000001</td>\n",
       "      <td>0x00000000</td>\n",
       "      <td>64.0</td>\n",
       "      <td>6.0</td>\n",
       "      <td>...</td>\n",
       "      <td>0.0</td>\n",
       "      <td>20.0</td>\n",
       "      <td>0x00000002</td>\n",
       "      <td>8192.0</td>\n",
       "      <td>8192.0</td>\n",
       "      <td>79:6f:75:20:61:72:65:20:75:6e:64:65:72:20:61:2...</td>\n",
       "      <td>28.0</td>\n",
       "      <td>27.0</td>\n",
       "      <td>81</td>\n",
       "      <td>ddos</td>\n",
       "    </tr>\n",
       "    <tr>\n",
       "      <th>2</th>\n",
       "      <td>3</td>\n",
       "      <td>00:00:00:00:00:01</td>\n",
       "      <td>00:00:00:00:00:19</td>\n",
       "      <td>0x00000800</td>\n",
       "      <td>20.0</td>\n",
       "      <td>67.0</td>\n",
       "      <td>0x00000001</td>\n",
       "      <td>0x00000000</td>\n",
       "      <td>64.0</td>\n",
       "      <td>6.0</td>\n",
       "      <td>...</td>\n",
       "      <td>0.0</td>\n",
       "      <td>20.0</td>\n",
       "      <td>0x00000002</td>\n",
       "      <td>8192.0</td>\n",
       "      <td>8192.0</td>\n",
       "      <td>79:6f:75:20:61:72:65:20:75:6e:64:65:72:20:61:2...</td>\n",
       "      <td>28.0</td>\n",
       "      <td>27.0</td>\n",
       "      <td>81</td>\n",
       "      <td>ddos</td>\n",
       "    </tr>\n",
       "    <tr>\n",
       "      <th>3</th>\n",
       "      <td>4</td>\n",
       "      <td>00:00:00:00:00:01</td>\n",
       "      <td>00:00:00:00:00:19</td>\n",
       "      <td>0x00000800</td>\n",
       "      <td>20.0</td>\n",
       "      <td>67.0</td>\n",
       "      <td>0x00000001</td>\n",
       "      <td>0x00000000</td>\n",
       "      <td>64.0</td>\n",
       "      <td>6.0</td>\n",
       "      <td>...</td>\n",
       "      <td>0.0</td>\n",
       "      <td>20.0</td>\n",
       "      <td>0x00000002</td>\n",
       "      <td>8192.0</td>\n",
       "      <td>8192.0</td>\n",
       "      <td>79:6f:75:20:61:72:65:20:75:6e:64:65:72:20:61:2...</td>\n",
       "      <td>28.0</td>\n",
       "      <td>27.0</td>\n",
       "      <td>81</td>\n",
       "      <td>ddos</td>\n",
       "    </tr>\n",
       "    <tr>\n",
       "      <th>4</th>\n",
       "      <td>5</td>\n",
       "      <td>00:00:00:00:00:01</td>\n",
       "      <td>00:00:00:00:00:19</td>\n",
       "      <td>0x00000800</td>\n",
       "      <td>20.0</td>\n",
       "      <td>67.0</td>\n",
       "      <td>0x00000001</td>\n",
       "      <td>0x00000000</td>\n",
       "      <td>64.0</td>\n",
       "      <td>6.0</td>\n",
       "      <td>...</td>\n",
       "      <td>0.0</td>\n",
       "      <td>20.0</td>\n",
       "      <td>0x00000002</td>\n",
       "      <td>8192.0</td>\n",
       "      <td>8192.0</td>\n",
       "      <td>79:6f:75:20:61:72:65:20:75:6e:64:65:72:20:61:2...</td>\n",
       "      <td>28.0</td>\n",
       "      <td>27.0</td>\n",
       "      <td>81</td>\n",
       "      <td>ddos</td>\n",
       "    </tr>\n",
       "  </tbody>\n",
       "</table>\n",
       "<p>5 rows × 28 columns</p>\n",
       "</div>"
      ],
      "text/plain": [
       "   frame number            eth src            eth dst    eth type  ip hdr_len  \\\n",
       "0             1  00:00:00:00:00:01  00:00:00:00:00:19  0x00000800        20.0   \n",
       "1             2  00:00:00:00:00:01  00:00:00:00:00:19  0x00000800        20.0   \n",
       "2             3  00:00:00:00:00:01  00:00:00:00:00:19  0x00000800        20.0   \n",
       "3             4  00:00:00:00:00:01  00:00:00:00:00:19  0x00000800        20.0   \n",
       "4             5  00:00:00:00:00:01  00:00:00:00:00:19  0x00000800        20.0   \n",
       "\n",
       "   ip len       ip id    ip flags  ip ttl  ip proto  ... tcp ack tcp hdr_len  \\\n",
       "0    67.0  0x00000001  0x00000000    64.0       6.0  ...     0.0        20.0   \n",
       "1    67.0  0x00000001  0x00000000    64.0       6.0  ...     0.0        20.0   \n",
       "2    67.0  0x00000001  0x00000000    64.0       6.0  ...     0.0        20.0   \n",
       "3    67.0  0x00000001  0x00000000    64.0       6.0  ...     0.0        20.0   \n",
       "4    67.0  0x00000001  0x00000000    64.0       6.0  ...     0.0        20.0   \n",
       "\n",
       "    tcp flags  tcp window_size_value  tcp window_size  \\\n",
       "0  0x00000002                 8192.0           8192.0   \n",
       "1  0x00000002                 8192.0           8192.0   \n",
       "2  0x00000002                 8192.0           8192.0   \n",
       "3  0x00000002                 8192.0           8192.0   \n",
       "4  0x00000002                 8192.0           8192.0   \n",
       "\n",
       "                                         tcp payload  \\\n",
       "0  79:6f:75:20:61:72:65:20:75:6e:64:65:72:20:61:2...   \n",
       "1  79:6f:75:20:61:72:65:20:75:6e:64:65:72:20:61:2...   \n",
       "2  79:6f:75:20:61:72:65:20:75:6e:64:65:72:20:61:2...   \n",
       "3  79:6f:75:20:61:72:65:20:75:6e:64:65:72:20:61:2...   \n",
       "4  79:6f:75:20:61:72:65:20:75:6e:64:65:72:20:61:2...   \n",
       "\n",
       "   tcp analysis.bytes_in_flight  tcp analysis.push_bytes_sent  frame len  \\\n",
       "0                          28.0                          27.0         81   \n",
       "1                          28.0                          27.0         81   \n",
       "2                          28.0                          27.0         81   \n",
       "3                          28.0                          27.0         81   \n",
       "4                          28.0                          27.0         81   \n",
       "\n",
       "   label  \n",
       "0   ddos  \n",
       "1   ddos  \n",
       "2   ddos  \n",
       "3   ddos  \n",
       "4   ddos  \n",
       "\n",
       "[5 rows x 28 columns]"
      ]
     },
     "execution_count": 16,
     "metadata": {},
     "output_type": "execute_result"
    }
   ],
   "source": [
    "df.head()"
   ]
  },
  {
   "cell_type": "code",
   "execution_count": 17,
   "metadata": {},
   "outputs": [
    {
     "name": "stdout",
     "output_type": "stream",
     "text": [
      "<class 'pandas.core.frame.DataFrame'>\n",
      "RangeIndex: 1536950 entries, 0 to 1536949\n",
      "Data columns (total 28 columns):\n",
      " #   Column                        Non-Null Count    Dtype  \n",
      "---  ------                        --------------    -----  \n",
      " 0   frame number                  1536950 non-null  int64  \n",
      " 1   eth src                       1536950 non-null  object \n",
      " 2   eth dst                       1536950 non-null  object \n",
      " 3   eth type                      1536950 non-null  object \n",
      " 4   ip hdr_len                    1535294 non-null  float64\n",
      " 5   ip len                        1535294 non-null  float64\n",
      " 6   ip id                         1535294 non-null  object \n",
      " 7   ip flags                      1535294 non-null  object \n",
      " 8   ip ttl                        1535294 non-null  float64\n",
      " 9   ip proto                      1535294 non-null  float64\n",
      " 10  ip src                        1535294 non-null  object \n",
      " 11  ip dst                        1535294 non-null  object \n",
      " 12  tcp src port                  1535294 non-null  float64\n",
      " 13  tcp dst port                  1535294 non-null  float64\n",
      " 14  tcp stream                    1535294 non-null  float64\n",
      " 15  tcp len                       1535294 non-null  float64\n",
      " 16  tcp seq                       1535294 non-null  float64\n",
      " 17  tcp  nxtseq                   1535294 non-null  float64\n",
      " 18  tcp ack                       1535294 non-null  float64\n",
      " 19  tcp hdr_len                   1535294 non-null  float64\n",
      " 20  tcp flags                     1535294 non-null  object \n",
      " 21  tcp window_size_value         1535294 non-null  float64\n",
      " 22  tcp window_size               1535294 non-null  float64\n",
      " 23  tcp payload                   533931 non-null   object \n",
      " 24  tcp analysis.bytes_in_flight  533931 non-null   float64\n",
      " 25  tcp analysis.push_bytes_sent  533931 non-null   float64\n",
      " 26  frame len                     1536950 non-null  int64  \n",
      " 27  label                         1536950 non-null  object \n",
      "dtypes: float64(16), int64(2), object(10)\n",
      "memory usage: 328.3+ MB\n"
     ]
    }
   ],
   "source": [
    "df.info()"
   ]
  },
  {
   "cell_type": "code",
   "execution_count": 18,
   "metadata": {},
   "outputs": [],
   "source": [
    "df = df.drop_duplicates()\n",
    "df = df.dropna()\n"
   ]
  },
  {
   "cell_type": "code",
   "execution_count": 19,
   "metadata": {},
   "outputs": [
    {
     "data": {
      "text/plain": [
       "label\n",
       "benign    418816\n",
       "ddos      115115\n",
       "Name: count, dtype: int64"
      ]
     },
     "execution_count": 19,
     "metadata": {},
     "output_type": "execute_result"
    }
   ],
   "source": [
    "df['label'].value_counts()"
   ]
  },
  {
   "cell_type": "code",
   "execution_count": 20,
   "metadata": {},
   "outputs": [
    {
     "name": "stderr",
     "output_type": "stream",
     "text": [
      "C:\\Users\\akisnoobotrolis\\AppData\\Local\\Temp\\ipykernel_4640\\1121576565.py:1: FutureWarning: \n",
      "\n",
      "Passing `palette` without assigning `hue` is deprecated and will be removed in v0.14.0. Assign the `x` variable to `hue` and set `legend=False` for the same effect.\n",
      "\n",
      "  sns.countplot(x='label',data=df,palette='hls')\n"
     ]
    },
    {
     "data": {
      "text/plain": [
       "<Axes: xlabel='label', ylabel='count'>"
      ]
     },
     "execution_count": 20,
     "metadata": {},
     "output_type": "execute_result"
    },
    {
     "data": {
      "image/png": "[encoded data removed]",
      "text/plain": [
       "<Figure size 640x480 with 1 Axes>"
      ]
     },
     "metadata": {},
     "output_type": "display_data"
    }
   ],
   "source": [
    "sns.countplot(x='label',data=df,palette='hls')"
   ]
  },
  {
   "cell_type": "code",
   "execution_count": 21,
   "metadata": {},
   "outputs": [
    {
     "data": {
      "text/html": [
       "<div>\n",
       "<style scoped>\n",
       "    .dataframe tbody tr th:only-of-type {\n",
       "        vertical-align: middle;\n",
       "    }\n",
       "\n",
       "    .dataframe tbody tr th {\n",
       "        vertical-align: top;\n",
       "    }\n",
       "\n",
       "    .dataframe thead th {\n",
       "        text-align: right;\n",
       "    }\n",
       "</style>\n",
       "<table border=\"1\" class=\"dataframe\">\n",
       "  <thead>\n",
       "    <tr style=\"text-align: right;\">\n",
       "      <th></th>\n",
       "      <th>frame number</th>\n",
       "      <th>eth src</th>\n",
       "      <th>eth dst</th>\n",
       "      <th>eth type</th>\n",
       "      <th>ip hdr_len</th>\n",
       "      <th>ip len</th>\n",
       "      <th>ip id</th>\n",
       "      <th>ip flags</th>\n",
       "      <th>ip ttl</th>\n",
       "      <th>ip proto</th>\n",
       "      <th>...</th>\n",
       "      <th>tcp ack</th>\n",
       "      <th>tcp hdr_len</th>\n",
       "      <th>tcp flags</th>\n",
       "      <th>tcp window_size_value</th>\n",
       "      <th>tcp window_size</th>\n",
       "      <th>tcp payload</th>\n",
       "      <th>tcp analysis.bytes_in_flight</th>\n",
       "      <th>tcp analysis.push_bytes_sent</th>\n",
       "      <th>frame len</th>\n",
       "      <th>label_ddos</th>\n",
       "    </tr>\n",
       "  </thead>\n",
       "  <tbody>\n",
       "    <tr>\n",
       "      <th>0</th>\n",
       "      <td>1</td>\n",
       "      <td>00:00:00:00:00:01</td>\n",
       "      <td>00:00:00:00:00:19</td>\n",
       "      <td>0x00000800</td>\n",
       "      <td>20.0</td>\n",
       "      <td>67.0</td>\n",
       "      <td>0x00000001</td>\n",
       "      <td>0x00000000</td>\n",
       "      <td>64.0</td>\n",
       "      <td>6.0</td>\n",
       "      <td>...</td>\n",
       "      <td>0.0</td>\n",
       "      <td>20.0</td>\n",
       "      <td>0x00000002</td>\n",
       "      <td>8192.0</td>\n",
       "      <td>8192.0</td>\n",
       "      <td>79:6f:75:20:61:72:65:20:75:6e:64:65:72:20:61:2...</td>\n",
       "      <td>28.0</td>\n",
       "      <td>27.0</td>\n",
       "      <td>81</td>\n",
       "      <td>True</td>\n",
       "    </tr>\n",
       "    <tr>\n",
       "      <th>1</th>\n",
       "      <td>2</td>\n",
       "      <td>00:00:00:00:00:01</td>\n",
       "      <td>00:00:00:00:00:19</td>\n",
       "      <td>0x00000800</td>\n",
       "      <td>20.0</td>\n",
       "      <td>67.0</td>\n",
       "      <td>0x00000001</td>\n",
       "      <td>0x00000000</td>\n",
       "      <td>64.0</td>\n",
       "      <td>6.0</td>\n",
       "      <td>...</td>\n",
       "      <td>0.0</td>\n",
       "      <td>20.0</td>\n",
       "      <td>0x00000002</td>\n",
       "      <td>8192.0</td>\n",
       "      <td>8192.0</td>\n",
       "      <td>79:6f:75:20:61:72:65:20:75:6e:64:65:72:20:61:2...</td>\n",
       "      <td>28.0</td>\n",
       "      <td>27.0</td>\n",
       "      <td>81</td>\n",
       "      <td>True</td>\n",
       "    </tr>\n",
       "    <tr>\n",
       "      <th>2</th>\n",
       "      <td>3</td>\n",
       "      <td>00:00:00:00:00:01</td>\n",
       "      <td>00:00:00:00:00:19</td>\n",
       "      <td>0x00000800</td>\n",
       "      <td>20.0</td>\n",
       "      <td>67.0</td>\n",
       "      <td>0x00000001</td>\n",
       "      <td>0x00000000</td>\n",
       "      <td>64.0</td>\n",
       "      <td>6.0</td>\n",
       "      <td>...</td>\n",
       "      <td>0.0</td>\n",
       "      <td>20.0</td>\n",
       "      <td>0x00000002</td>\n",
       "      <td>8192.0</td>\n",
       "      <td>8192.0</td>\n",
       "      <td>79:6f:75:20:61:72:65:20:75:6e:64:65:72:20:61:2...</td>\n",
       "      <td>28.0</td>\n",
       "      <td>27.0</td>\n",
       "      <td>81</td>\n",
       "      <td>True</td>\n",
       "    </tr>\n",
       "    <tr>\n",
       "      <th>3</th>\n",
       "      <td>4</td>\n",
       "      <td>00:00:00:00:00:01</td>\n",
       "      <td>00:00:00:00:00:19</td>\n",
       "      <td>0x00000800</td>\n",
       "      <td>20.0</td>\n",
       "      <td>67.0</td>\n",
       "      <td>0x00000001</td>\n",
       "      <td>0x00000000</td>\n",
       "      <td>64.0</td>\n",
       "      <td>6.0</td>\n",
       "      <td>...</td>\n",
       "      <td>0.0</td>\n",
       "      <td>20.0</td>\n",
       "      <td>0x00000002</td>\n",
       "      <td>8192.0</td>\n",
       "      <td>8192.0</td>\n",
       "      <td>79:6f:75:20:61:72:65:20:75:6e:64:65:72:20:61:2...</td>\n",
       "      <td>28.0</td>\n",
       "      <td>27.0</td>\n",
       "      <td>81</td>\n",
       "      <td>True</td>\n",
       "    </tr>\n",
       "    <tr>\n",
       "      <th>4</th>\n",
       "      <td>5</td>\n",
       "      <td>00:00:00:00:00:01</td>\n",
       "      <td>00:00:00:00:00:19</td>\n",
       "      <td>0x00000800</td>\n",
       "      <td>20.0</td>\n",
       "      <td>67.0</td>\n",
       "      <td>0x00000001</td>\n",
       "      <td>0x00000000</td>\n",
       "      <td>64.0</td>\n",
       "      <td>6.0</td>\n",
       "      <td>...</td>\n",
       "      <td>0.0</td>\n",
       "      <td>20.0</td>\n",
       "      <td>0x00000002</td>\n",
       "      <td>8192.0</td>\n",
       "      <td>8192.0</td>\n",
       "      <td>79:6f:75:20:61:72:65:20:75:6e:64:65:72:20:61:2...</td>\n",
       "      <td>28.0</td>\n",
       "      <td>27.0</td>\n",
       "      <td>81</td>\n",
       "      <td>True</td>\n",
       "    </tr>\n",
       "    <tr>\n",
       "      <th>...</th>\n",
       "      <td>...</td>\n",
       "      <td>...</td>\n",
       "      <td>...</td>\n",
       "      <td>...</td>\n",
       "      <td>...</td>\n",
       "      <td>...</td>\n",
       "      <td>...</td>\n",
       "      <td>...</td>\n",
       "      <td>...</td>\n",
       "      <td>...</td>\n",
       "      <td>...</td>\n",
       "      <td>...</td>\n",
       "      <td>...</td>\n",
       "      <td>...</td>\n",
       "      <td>...</td>\n",
       "      <td>...</td>\n",
       "      <td>...</td>\n",
       "      <td>...</td>\n",
       "      <td>...</td>\n",
       "      <td>...</td>\n",
       "      <td>...</td>\n",
       "    </tr>\n",
       "    <tr>\n",
       "      <th>1536933</th>\n",
       "      <td>1421827</td>\n",
       "      <td>00:00:00:00:00:01</td>\n",
       "      <td>00:00:00:00:00:19</td>\n",
       "      <td>0x00000800</td>\n",
       "      <td>20.0</td>\n",
       "      <td>67.0</td>\n",
       "      <td>0x00000001</td>\n",
       "      <td>0x00000000</td>\n",
       "      <td>64.0</td>\n",
       "      <td>6.0</td>\n",
       "      <td>...</td>\n",
       "      <td>0.0</td>\n",
       "      <td>20.0</td>\n",
       "      <td>0x00000002</td>\n",
       "      <td>8192.0</td>\n",
       "      <td>8192.0</td>\n",
       "      <td>79:6f:75:20:61:72:65:20:75:6e:64:65:72:20:61:2...</td>\n",
       "      <td>28.0</td>\n",
       "      <td>27.0</td>\n",
       "      <td>81</td>\n",
       "      <td>False</td>\n",
       "    </tr>\n",
       "    <tr>\n",
       "      <th>1536936</th>\n",
       "      <td>1421830</td>\n",
       "      <td>00:00:00:00:00:01</td>\n",
       "      <td>00:00:00:00:00:19</td>\n",
       "      <td>0x00000800</td>\n",
       "      <td>20.0</td>\n",
       "      <td>67.0</td>\n",
       "      <td>0x00000001</td>\n",
       "      <td>0x00000000</td>\n",
       "      <td>64.0</td>\n",
       "      <td>6.0</td>\n",
       "      <td>...</td>\n",
       "      <td>0.0</td>\n",
       "      <td>20.0</td>\n",
       "      <td>0x00000002</td>\n",
       "      <td>8192.0</td>\n",
       "      <td>8192.0</td>\n",
       "      <td>79:6f:75:20:61:72:65:20:75:6e:64:65:72:20:61:2...</td>\n",
       "      <td>28.0</td>\n",
       "      <td>27.0</td>\n",
       "      <td>81</td>\n",
       "      <td>False</td>\n",
       "    </tr>\n",
       "    <tr>\n",
       "      <th>1536939</th>\n",
       "      <td>1421833</td>\n",
       "      <td>00:00:00:00:00:01</td>\n",
       "      <td>00:00:00:00:00:19</td>\n",
       "      <td>0x00000800</td>\n",
       "      <td>20.0</td>\n",
       "      <td>67.0</td>\n",
       "      <td>0x00000001</td>\n",
       "      <td>0x00000000</td>\n",
       "      <td>64.0</td>\n",
       "      <td>6.0</td>\n",
       "      <td>...</td>\n",
       "      <td>0.0</td>\n",
       "      <td>20.0</td>\n",
       "      <td>0x00000002</td>\n",
       "      <td>8192.0</td>\n",
       "      <td>8192.0</td>\n",
       "      <td>79:6f:75:20:61:72:65:20:75:6e:64:65:72:20:61:2...</td>\n",
       "      <td>28.0</td>\n",
       "      <td>27.0</td>\n",
       "      <td>81</td>\n",
       "      <td>False</td>\n",
       "    </tr>\n",
       "    <tr>\n",
       "      <th>1536942</th>\n",
       "      <td>1421836</td>\n",
       "      <td>00:00:00:00:00:01</td>\n",
       "      <td>00:00:00:00:00:19</td>\n",
       "      <td>0x00000800</td>\n",
       "      <td>20.0</td>\n",
       "      <td>67.0</td>\n",
       "      <td>0x00000001</td>\n",
       "      <td>0x00000000</td>\n",
       "      <td>64.0</td>\n",
       "      <td>6.0</td>\n",
       "      <td>...</td>\n",
       "      <td>0.0</td>\n",
       "      <td>20.0</td>\n",
       "      <td>0x00000002</td>\n",
       "      <td>8192.0</td>\n",
       "      <td>8192.0</td>\n",
       "      <td>79:6f:75:20:61:72:65:20:75:6e:64:65:72:20:61:2...</td>\n",
       "      <td>28.0</td>\n",
       "      <td>27.0</td>\n",
       "      <td>81</td>\n",
       "      <td>False</td>\n",
       "    </tr>\n",
       "    <tr>\n",
       "      <th>1536947</th>\n",
       "      <td>1421841</td>\n",
       "      <td>00:00:00:00:00:01</td>\n",
       "      <td>00:00:00:00:00:19</td>\n",
       "      <td>0x00000800</td>\n",
       "      <td>20.0</td>\n",
       "      <td>67.0</td>\n",
       "      <td>0x00000001</td>\n",
       "      <td>0x00000000</td>\n",
       "      <td>64.0</td>\n",
       "      <td>6.0</td>\n",
       "      <td>...</td>\n",
       "      <td>0.0</td>\n",
       "      <td>20.0</td>\n",
       "      <td>0x00000002</td>\n",
       "      <td>8192.0</td>\n",
       "      <td>8192.0</td>\n",
       "      <td>79:6f:75:20:61:72:65:20:75:6e:64:65:72:20:61:2...</td>\n",
       "      <td>28.0</td>\n",
       "      <td>27.0</td>\n",
       "      <td>81</td>\n",
       "      <td>False</td>\n",
       "    </tr>\n",
       "  </tbody>\n",
       "</table>\n",
       "<p>533931 rows × 28 columns</p>\n",
       "</div>"
      ],
      "text/plain": [
       "         frame number            eth src            eth dst    eth type  \\\n",
       "0                   1  00:00:00:00:00:01  00:00:00:00:00:19  0x00000800   \n",
       "1                   2  00:00:00:00:00:01  00:00:00:00:00:19  0x00000800   \n",
       "2                   3  00:00:00:00:00:01  00:00:00:00:00:19  0x00000800   \n",
       "3                   4  00:00:00:00:00:01  00:00:00:00:00:19  0x00000800   \n",
       "4                   5  00:00:00:00:00:01  00:00:00:00:00:19  0x00000800   \n",
       "...               ...                ...                ...         ...   \n",
       "1536933       1421827  00:00:00:00:00:01  00:00:00:00:00:19  0x00000800   \n",
       "1536936       1421830  00:00:00:00:00:01  00:00:00:00:00:19  0x00000800   \n",
       "1536939       1421833  00:00:00:00:00:01  00:00:00:00:00:19  0x00000800   \n",
       "1536942       1421836  00:00:00:00:00:01  00:00:00:00:00:19  0x00000800   \n",
       "1536947       1421841  00:00:00:00:00:01  00:00:00:00:00:19  0x00000800   \n",
       "\n",
       "         ip hdr_len  ip len       ip id    ip flags  ip ttl  ip proto  ...  \\\n",
       "0              20.0    67.0  0x00000001  0x00000000    64.0       6.0  ...   \n",
       "1              20.0    67.0  0x00000001  0x00000000    64.0       6.0  ...   \n",
       "2              20.0    67.0  0x00000001  0x00000000    64.0       6.0  ...   \n",
       "3              20.0    67.0  0x00000001  0x00000000    64.0       6.0  ...   \n",
       "4              20.0    67.0  0x00000001  0x00000000    64.0       6.0  ...   \n",
       "...             ...     ...         ...         ...     ...       ...  ...   \n",
       "1536933        20.0    67.0  0x00000001  0x00000000    64.0       6.0  ...   \n",
       "1536936        20.0    67.0  0x00000001  0x00000000    64.0       6.0  ...   \n",
       "1536939        20.0    67.0  0x00000001  0x00000000    64.0       6.0  ...   \n",
       "1536942        20.0    67.0  0x00000001  0x00000000    64.0       6.0  ...   \n",
       "1536947        20.0    67.0  0x00000001  0x00000000    64.0       6.0  ...   \n",
       "\n",
       "        tcp ack tcp hdr_len   tcp flags  tcp window_size_value  \\\n",
       "0           0.0        20.0  0x00000002                 8192.0   \n",
       "1           0.0        20.0  0x00000002                 8192.0   \n",
       "2           0.0        20.0  0x00000002                 8192.0   \n",
       "3           0.0        20.0  0x00000002                 8192.0   \n",
       "4           0.0        20.0  0x00000002                 8192.0   \n",
       "...         ...         ...         ...                    ...   \n",
       "1536933     0.0        20.0  0x00000002                 8192.0   \n",
       "1536936     0.0        20.0  0x00000002                 8192.0   \n",
       "1536939     0.0        20.0  0x00000002                 8192.0   \n",
       "1536942     0.0        20.0  0x00000002                 8192.0   \n",
       "1536947     0.0        20.0  0x00000002                 8192.0   \n",
       "\n",
       "         tcp window_size                                        tcp payload  \\\n",
       "0                 8192.0  79:6f:75:20:61:72:65:20:75:6e:64:65:72:20:61:2...   \n",
       "1                 8192.0  79:6f:75:20:61:72:65:20:75:6e:64:65:72:20:61:2...   \n",
       "2                 8192.0  79:6f:75:20:61:72:65:20:75:6e:64:65:72:20:61:2...   \n",
       "3                 8192.0  79:6f:75:20:61:72:65:20:75:6e:64:65:72:20:61:2...   \n",
       "4                 8192.0  79:6f:75:20:61:72:65:20:75:6e:64:65:72:20:61:2...   \n",
       "...                  ...                                                ...   \n",
       "1536933           8192.0  79:6f:75:20:61:72:65:20:75:6e:64:65:72:20:61:2...   \n",
       "1536936           8192.0  79:6f:75:20:61:72:65:20:75:6e:64:65:72:20:61:2...   \n",
       "1536939           8192.0  79:6f:75:20:61:72:65:20:75:6e:64:65:72:20:61:2...   \n",
       "1536942           8192.0  79:6f:75:20:61:72:65:20:75:6e:64:65:72:20:61:2...   \n",
       "1536947           8192.0  79:6f:75:20:61:72:65:20:75:6e:64:65:72:20:61:2...   \n",
       "\n",
       "         tcp analysis.bytes_in_flight  tcp analysis.push_bytes_sent  \\\n",
       "0                                28.0                          27.0   \n",
       "1                                28.0                          27.0   \n",
       "2                                28.0                          27.0   \n",
       "3                                28.0                          27.0   \n",
       "4                                28.0                          27.0   \n",
       "...                               ...                           ...   \n",
       "1536933                          28.0                          27.0   \n",
       "1536936                          28.0                          27.0   \n",
       "1536939                          28.0                          27.0   \n",
       "1536942                          28.0                          27.0   \n",
       "1536947                          28.0                          27.0   \n",
       "\n",
       "         frame len  label_ddos  \n",
       "0               81        True  \n",
       "1               81        True  \n",
       "2               81        True  \n",
       "3               81        True  \n",
       "4               81        True  \n",
       "...            ...         ...  \n",
       "1536933         81       False  \n",
       "1536936         81       False  \n",
       "1536939         81       False  \n",
       "1536942         81       False  \n",
       "1536947         81       False  \n",
       "\n",
       "[533931 rows x 28 columns]"
      ]
     },
     "execution_count": 21,
     "metadata": {},
     "output_type": "execute_result"
    }
   ],
   "source": [
    "df= pd.get_dummies(df, columns=[\"label\"])\n",
    "df.drop(['label_benign'],axis=1,inplace=True)\n",
    "df"
   ]
  },
  {
   "cell_type": "code",
   "execution_count": 22,
   "metadata": {},
   "outputs": [],
   "source": [
    "import ipaddress\n",
    "df['ip src'] = df['ip src'].apply(lambda x: int(ipaddress.IPv4Address(x)))\n",
    "df['ip dst'] = df['ip dst'].apply(lambda x: int(ipaddress.IPv4Address(x)))"
   ]
  },
  {
   "cell_type": "code",
   "execution_count": 23,
   "metadata": {},
   "outputs": [],
   "source": [
    "def hex_to_binary(hex_string):\n",
    "    binary_string = ''\n",
    "    for hex_char in hex_string.split(':'):\n",
    "        binary_string += format(int(hex_char, 16), '04b')\n",
    "    return binary_string"
   ]
  },
  {
   "cell_type": "code",
   "execution_count": 24,
   "metadata": {},
   "outputs": [
    {
     "name": "stdout",
     "output_type": "stream",
     "text": [
      "frame number [      1       2       3 ... 1421833 1421836 1421841]\n",
      "ip src [167837967 167837953 167837966 167837958 167837964 167837962 167837952\n",
      " 167837954 167837955 167837965 167837963 167837960 167837956 167837961\n",
      " 167837957 167837959]\n",
      "tcp src port [44284. 48820. 27506. ...  8862.  5582. 18556.]\n",
      "tcp stream [0.00000e+00 1.00000e+00 2.00000e+00 ... 4.18815e+05 4.18816e+05\n",
      " 4.18817e+05]\n",
      "tcp analysis.push_bytes_sent [ 27.  54.  81. 108. 135. 162.]\n",
      "label_ddos [ True False]\n"
     ]
    }
   ],
   "source": [
    "filtered_df = pd.DataFrame()\n",
    "for column in df.columns:\n",
    "    if df[column].value_counts().count() > 1:\n",
    "        print(column, df[column].unique())\n",
    "        filtered_df[column] = df[column].copy()\n",
    "\n"
   ]
  },
  {
   "cell_type": "code",
   "execution_count": 25,
   "metadata": {},
   "outputs": [
    {
     "data": {
      "text/html": [
       "<div>\n",
       "<style scoped>\n",
       "    .dataframe tbody tr th:only-of-type {\n",
       "        vertical-align: middle;\n",
       "    }\n",
       "\n",
       "    .dataframe tbody tr th {\n",
       "        vertical-align: top;\n",
       "    }\n",
       "\n",
       "    .dataframe thead th {\n",
       "        text-align: right;\n",
       "    }\n",
       "</style>\n",
       "<table border=\"1\" class=\"dataframe\">\n",
       "  <thead>\n",
       "    <tr style=\"text-align: right;\">\n",
       "      <th></th>\n",
       "      <th>frame number</th>\n",
       "      <th>ip src</th>\n",
       "      <th>tcp src port</th>\n",
       "      <th>tcp stream</th>\n",
       "      <th>tcp analysis.push_bytes_sent</th>\n",
       "      <th>label_ddos</th>\n",
       "    </tr>\n",
       "  </thead>\n",
       "  <tbody>\n",
       "    <tr>\n",
       "      <th>0</th>\n",
       "      <td>1</td>\n",
       "      <td>167837967</td>\n",
       "      <td>44284.0</td>\n",
       "      <td>0.0</td>\n",
       "      <td>27.0</td>\n",
       "      <td>True</td>\n",
       "    </tr>\n",
       "    <tr>\n",
       "      <th>1</th>\n",
       "      <td>2</td>\n",
       "      <td>167837953</td>\n",
       "      <td>48820.0</td>\n",
       "      <td>1.0</td>\n",
       "      <td>27.0</td>\n",
       "      <td>True</td>\n",
       "    </tr>\n",
       "    <tr>\n",
       "      <th>2</th>\n",
       "      <td>3</td>\n",
       "      <td>167837966</td>\n",
       "      <td>27506.0</td>\n",
       "      <td>2.0</td>\n",
       "      <td>27.0</td>\n",
       "      <td>True</td>\n",
       "    </tr>\n",
       "    <tr>\n",
       "      <th>3</th>\n",
       "      <td>4</td>\n",
       "      <td>167837958</td>\n",
       "      <td>61849.0</td>\n",
       "      <td>3.0</td>\n",
       "      <td>27.0</td>\n",
       "      <td>True</td>\n",
       "    </tr>\n",
       "    <tr>\n",
       "      <th>4</th>\n",
       "      <td>5</td>\n",
       "      <td>167837967</td>\n",
       "      <td>65005.0</td>\n",
       "      <td>4.0</td>\n",
       "      <td>27.0</td>\n",
       "      <td>True</td>\n",
       "    </tr>\n",
       "    <tr>\n",
       "      <th>...</th>\n",
       "      <td>...</td>\n",
       "      <td>...</td>\n",
       "      <td>...</td>\n",
       "      <td>...</td>\n",
       "      <td>...</td>\n",
       "      <td>...</td>\n",
       "    </tr>\n",
       "    <tr>\n",
       "      <th>1536933</th>\n",
       "      <td>1421827</td>\n",
       "      <td>167837957</td>\n",
       "      <td>5060.0</td>\n",
       "      <td>418813.0</td>\n",
       "      <td>27.0</td>\n",
       "      <td>False</td>\n",
       "    </tr>\n",
       "    <tr>\n",
       "      <th>1536936</th>\n",
       "      <td>1421830</td>\n",
       "      <td>167837953</td>\n",
       "      <td>29703.0</td>\n",
       "      <td>418814.0</td>\n",
       "      <td>27.0</td>\n",
       "      <td>False</td>\n",
       "    </tr>\n",
       "    <tr>\n",
       "      <th>1536939</th>\n",
       "      <td>1421833</td>\n",
       "      <td>167837953</td>\n",
       "      <td>29642.0</td>\n",
       "      <td>418815.0</td>\n",
       "      <td>27.0</td>\n",
       "      <td>False</td>\n",
       "    </tr>\n",
       "    <tr>\n",
       "      <th>1536942</th>\n",
       "      <td>1421836</td>\n",
       "      <td>167837955</td>\n",
       "      <td>16328.0</td>\n",
       "      <td>418816.0</td>\n",
       "      <td>27.0</td>\n",
       "      <td>False</td>\n",
       "    </tr>\n",
       "    <tr>\n",
       "      <th>1536947</th>\n",
       "      <td>1421841</td>\n",
       "      <td>167837954</td>\n",
       "      <td>7273.0</td>\n",
       "      <td>418817.0</td>\n",
       "      <td>27.0</td>\n",
       "      <td>False</td>\n",
       "    </tr>\n",
       "  </tbody>\n",
       "</table>\n",
       "<p>533931 rows × 6 columns</p>\n",
       "</div>"
      ],
      "text/plain": [
       "         frame number     ip src  tcp src port  tcp stream  \\\n",
       "0                   1  167837967       44284.0         0.0   \n",
       "1                   2  167837953       48820.0         1.0   \n",
       "2                   3  167837966       27506.0         2.0   \n",
       "3                   4  167837958       61849.0         3.0   \n",
       "4                   5  167837967       65005.0         4.0   \n",
       "...               ...        ...           ...         ...   \n",
       "1536933       1421827  167837957        5060.0    418813.0   \n",
       "1536936       1421830  167837953       29703.0    418814.0   \n",
       "1536939       1421833  167837953       29642.0    418815.0   \n",
       "1536942       1421836  167837955       16328.0    418816.0   \n",
       "1536947       1421841  167837954        7273.0    418817.0   \n",
       "\n",
       "         tcp analysis.push_bytes_sent  label_ddos  \n",
       "0                                27.0        True  \n",
       "1                                27.0        True  \n",
       "2                                27.0        True  \n",
       "3                                27.0        True  \n",
       "4                                27.0        True  \n",
       "...                               ...         ...  \n",
       "1536933                          27.0       False  \n",
       "1536936                          27.0       False  \n",
       "1536939                          27.0       False  \n",
       "1536942                          27.0       False  \n",
       "1536947                          27.0       False  \n",
       "\n",
       "[533931 rows x 6 columns]"
      ]
     },
     "execution_count": 25,
     "metadata": {},
     "output_type": "execute_result"
    }
   ],
   "source": [
    "filtered_df"
   ]
  },
  {
   "cell_type": "code",
   "execution_count": 26,
   "metadata": {},
   "outputs": [
    {
     "name": "stdout",
     "output_type": "stream",
     "text": [
      "                              frame number    ip src  tcp src port  \\\n",
      "frame number                      1.000000 -0.001200      0.002555   \n",
      "ip src                           -0.001200  1.000000     -0.001700   \n",
      "tcp src port                      0.002555 -0.001700      1.000000   \n",
      "tcp stream                        0.995444 -0.001076      0.002763   \n",
      "tcp analysis.push_bytes_sent     -0.185854  0.001722     -0.000714   \n",
      "label_ddos                       -0.570200  0.000855      0.000066   \n",
      "\n",
      "                              tcp stream  tcp analysis.push_bytes_sent  \\\n",
      "frame number                    0.995444                     -0.185854   \n",
      "ip src                         -0.001076                      0.001722   \n",
      "tcp src port                    0.002763                     -0.000714   \n",
      "tcp stream                      1.000000                     -0.200379   \n",
      "tcp analysis.push_bytes_sent   -0.200379                      1.000000   \n",
      "label_ddos                     -0.529152                      0.334681   \n",
      "\n",
      "                              label_ddos  \n",
      "frame number                   -0.570200  \n",
      "ip src                          0.000855  \n",
      "tcp src port                    0.000066  \n",
      "tcp stream                     -0.529152  \n",
      "tcp analysis.push_bytes_sent    0.334681  \n",
      "label_ddos                      1.000000  \n"
     ]
    }
   ],
   "source": [
    "correlation_matrix = filtered_df.corr()\n",
    "print(correlation_matrix)"
   ]
  },
  {
   "cell_type": "code",
   "execution_count": 27,
   "metadata": {},
   "outputs": [
    {
     "data": {
      "text/plain": [
       "<Axes: >"
      ]
     },
     "execution_count": 27,
     "metadata": {},
     "output_type": "execute_result"
    },
    {
     "data": {
      "image/png": "[encoded data removed]",
      "text/plain": [
       "<Figure size 640x480 with 2 Axes>"
      ]
     },
     "metadata": {},
     "output_type": "display_data"
    }
   ],
   "source": [
    "sns.heatmap(correlation_matrix, annot=True, cmap='coolwarm', fmt=\".2f\")\n"
   ]
  },
  {
   "cell_type": "code",
   "execution_count": 28,
   "metadata": {},
   "outputs": [],
   "source": [
    "from sklearn.model_selection import train_test_split\n",
    "from sklearn.ensemble import RandomForestClassifier\n",
    "from sklearn.metrics import classification_report, confusion_matrix, accuracy_score\n"
   ]
  },
  {
   "cell_type": "code",
   "execution_count": 29,
   "metadata": {},
   "outputs": [],
   "source": [
    "x=filtered_df.drop(['label_ddos'],axis=1)\n",
    "y=filtered_df['label_ddos']"
   ]
  },
  {
   "cell_type": "code",
   "execution_count": 30,
   "metadata": {},
   "outputs": [],
   "source": [
    "x_train, x_test, y_train, y_test = train_test_split(x, y, test_size=0.20, random_state=0)"
   ]
  },
  {
   "cell_type": "code",
   "execution_count": 31,
   "metadata": {},
   "outputs": [
    {
     "name": "stdout",
     "output_type": "stream",
     "text": [
      "Accuracy is 99.99% for n = 10\n",
      "Accuracy is 100.00% for n = 20\n",
      "Accuracy is 100.00% for n = 30\n",
      "Accuracy is 100.00% for n = 40\n",
      "Accuracy is 100.00% for n = 50\n",
      "Accuracy is 100.00% for n = 60\n",
      "Accuracy is 100.00% for n = 70\n",
      "Accuracy is 100.00% for n = 80\n",
      "Accuracy is 100.00% for n = 90\n"
     ]
    },
    {
     "data": {
      "text/plain": [
       "Text(0.5, 1.0, 'Random Forest Accuracy vs. Number of Trees')"
      ]
     },
     "execution_count": 31,
     "metadata": {},
     "output_type": "execute_result"
    },
    {
     "data": {
      "image/png": "[encoded data removed]",
      "text/plain": [
       "<Figure size 640x480 with 1 Axes>"
      ]
     },
     "metadata": {},
     "output_type": "display_data"
    }
   ],
   "source": [
    "accuracies = []\n",
    "for i in range(10, 100, 10):  \n",
    "    classifier = RandomForestClassifier(n_estimators=i, random_state=101)\n",
    "    classifier.fit(x_train, y_train)\n",
    "    y_pred = classifier.predict(x_test)\n",
    "    accuracy = accuracy_score(y_test, y_pred)\n",
    "    accuracies.append(accuracy)\n",
    "    print(f\"Accuracy is {accuracy*100:.2f}% for n = {i}\")\n",
    "\n",
    "\n",
    "plt.plot(range(10, 100, 10), accuracies)\n",
    "plt.xlabel('Number of Trees (n_estimators)')\n",
    "plt.ylabel('Accuracy')\n",
    "plt.title('Random Forest Accuracy vs. Number of Trees')\n"
   ]
  },
  {
   "cell_type": "code",
   "execution_count": 33,
   "metadata": {},
   "outputs": [],
   "source": [
    "\n",
    "refiltered_df = filtered_df.drop(['ip src'], axis=1).copy()\n"
   ]
  },
  {
   "cell_type": "code",
   "execution_count": 34,
   "metadata": {},
   "outputs": [],
   "source": [
    "x1=refiltered_df.drop(['label_ddos'],axis=1)\n",
    "y1=refiltered_df['label_ddos']"
   ]
  },
  {
   "cell_type": "code",
   "execution_count": 35,
   "metadata": {},
   "outputs": [],
   "source": [
    "x1_train, x1_test, y1_train, y1_test = train_test_split(x1, y1, test_size=0.20, random_state=101)"
   ]
  },
  {
   "cell_type": "code",
   "execution_count": 36,
   "metadata": {},
   "outputs": [
    {
     "name": "stdout",
     "output_type": "stream",
     "text": [
      "Accuracy is 100.00% for n = 10\n",
      "Accuracy is 99.99% for n = 20\n",
      "Accuracy is 100.00% for n = 30\n",
      "Accuracy is 100.00% for n = 40\n",
      "Accuracy is 100.00% for n = 50\n",
      "Accuracy is 100.00% for n = 60\n",
      "Accuracy is 100.00% for n = 70\n",
      "Accuracy is 100.00% for n = 80\n",
      "Accuracy is 100.00% for n = 90\n"
     ]
    },
    {
     "data": {
      "text/plain": [
       "Text(0.5, 1.0, 'Random Forest Accuracy vs. Number of Trees')"
      ]
     },
     "execution_count": 36,
     "metadata": {},
     "output_type": "execute_result"
    },
    {
     "data": {
      "image/png": "[encoded data removed]",
      "text/plain": [
       "<Figure size 640x480 with 1 Axes>"
      ]
     },
     "metadata": {},
     "output_type": "display_data"
    }
   ],
   "source": [
    "accuracies = []\n",
    "for i in range(10, 100, 10):  \n",
    "    classifier = RandomForestClassifier(n_estimators=i, random_state=101)\n",
    "    classifier.fit(x1_train, y1_train)\n",
    "    y1_pred = classifier.predict(x1_test)\n",
    "    accuracy = accuracy_score(y1_test, y1_pred)\n",
    "    accuracies.append(accuracy)\n",
    "    print(f\"Accuracy is {accuracy*100:.2f}% for n = {i}\")\n",
    "\n",
    "\n",
    "plt.plot(range(10, 100, 10), accuracies)\n",
    "plt.xlabel('Number of Trees (n_estimators)')\n",
    "plt.ylabel('Accuracy')\n",
    "plt.title('Random Forest Accuracy vs. Number of Trees')"
   ]
  },
  {
   "cell_type": "code",
   "execution_count": 39,
   "metadata": {},
   "outputs": [
    {
     "name": "stdout",
     "output_type": "stream",
     "text": [
      "Accuracy is 99.96% for n = 1\n",
      "Accuracy is 99.96% for n = 2\n",
      "Accuracy is 99.99% for n = 3\n",
      "Accuracy is 99.99% for n = 4\n",
      "Accuracy is 99.99% for n = 5\n",
      "Accuracy is 100.00% for n = 6\n",
      "Accuracy is 100.00% for n = 7\n",
      "Accuracy is 100.00% for n = 8\n",
      "Accuracy is 100.00% for n = 9\n",
      "Accuracy is 100.00% for n = 10\n"
     ]
    },
    {
     "data": {
      "text/plain": [
       "Text(0.5, 1.0, 'Random Forest Accuracy vs. Number of Trees')"
      ]
     },
     "execution_count": 39,
     "metadata": {},
     "output_type": "execute_result"
    },
    {
     "data": {
      "image/png": "[encoded data removed]",
      "text/plain": [
       "<Figure size 640x480 with 1 Axes>"
      ]
     },
     "metadata": {},
     "output_type": "display_data"
    }
   ],
   "source": [
    "accuracies = []\n",
    "for i in range(1, 11,1):  \n",
    "    classifier = RandomForestClassifier(n_estimators=i, random_state=101)\n",
    "    classifier.fit(x1_train, y1_train)\n",
    "    y1_pred = classifier.predict(x1_test)\n",
    "    accuracy = accuracy_score(y1_test, y1_pred)\n",
    "    accuracies.append(accuracy)\n",
    "    print(f\"Accuracy is {accuracy*100:.2f}% for n = {i}\")\n",
    "\n",
    "\n",
    "plt.plot(range(1, 11, 1), accuracies)\n",
    "plt.xlabel('Number of Trees (n_estimators)')\n",
    "plt.ylabel('Accuracy')\n",
    "plt.title('Random Forest Accuracy vs. Number of Trees')"
   ]
  },
  {
   "cell_type": "code",
   "execution_count": 40,
   "metadata": {},
   "outputs": [
    {
     "data": {
      "text/plain": [
       "Index(['frame number', 'tcp src port', 'tcp stream',\n",
       "       'tcp analysis.push_bytes_sent'],\n",
       "      dtype='object')"
      ]
     },
     "execution_count": 40,
     "metadata": {},
     "output_type": "execute_result"
    }
   ],
   "source": [
    "x1_train.columns"
   ]
  },
  {
   "cell_type": "code",
   "execution_count": 41,
   "metadata": {},
   "outputs": [
    {
     "name": "stdout",
     "output_type": "stream",
     "text": [
      "              precision    recall  f1-score   support\n",
      "\n",
      "       False       1.00      1.00      1.00     83543\n",
      "        True       1.00      1.00      1.00     23244\n",
      "\n",
      "    accuracy                           1.00    106787\n",
      "   macro avg       1.00      1.00      1.00    106787\n",
      "weighted avg       1.00      1.00      1.00    106787\n",
      "\n"
     ]
    }
   ],
   "source": [
    "classifier = RandomForestClassifier(n_estimators=i, random_state=101)\n",
    "classifier.fit(x1_train, y1_train)\n",
    "y1_pred = classifier.predict(x1_test)\n",
    "print(classification_report(y1_test,y1_pred))"
   ]
  },
  {
   "cell_type": "code",
   "execution_count": 48,
   "metadata": {},
   "outputs": [
    {
     "name": "stdout",
     "output_type": "stream",
     "text": [
      "Cross-Validation Accuracy: 0.81 (+/- 0.42)\n"
     ]
    }
   ],
   "source": [
    "from sklearn.model_selection import cross_val_score\n",
    "\n",
    "scores = cross_val_score(estimator=classifier, X=refiltered_df.drop(['label_ddos'], axis=1), y=refiltered_df['label_ddos'], cv=5)\n",
    "print(f\"Cross-Validation Accuracy: {scores.mean():.2f} (+/- {scores.std() * 2:.2f})\")\n",
    "\n",
    "\n",
    "\n"
   ]
  },
  {
   "cell_type": "code",
   "execution_count": 50,
   "metadata": {},
   "outputs": [],
   "source": [
    "from scapy.all import sniff\n",
    "from scapy.layers.inet import TCP, IP\n",
    "import joblib\n"
   ]
  },
  {
   "cell_type": "code",
   "execution_count": 52,
   "metadata": {},
   "outputs": [],
   "source": [
    "\n",
    "def preprocess_packet(packet):\n",
    "    print(packet)\n",
    "    return packet\n"
   ]
  },
  {
   "cell_type": "code",
   "execution_count": 53,
   "metadata": {},
   "outputs": [],
   "source": [
    "\n",
    "\n",
    "def handle_packet(packet):\n",
    "    if packet.haslayer(TCP) and packet.haslayer(IP):\n",
    "        if packet[TCP].flags == 'S':\n",
    "            processed_packet = preprocess_packet(packet)\n",
    "            prediction = classifier.predict([processed_packet])[0]\n",
    "            if prediction == 1:\n",
    "                print(f\"SYN Flood Attack detected from {packet[IP].src}!\")\n"
   ]
  },
  {
   "cell_type": "code",
   "execution_count": null,
   "metadata": {},
   "outputs": [],
   "source": [
    "def extract_features_from_packet(packet):\n",
    "\n",
    "    features = {}\n",
    "\n",
    "\n",
    "    features['frame number'] =\n",
    "    features['tcp src port'] = packet[TCP].sport if packet.haslayer(TCP) else None\n",
    "    features['tcp stream'] = # extract or calculate tcp stream\n",
    "    features['tcp analysis.push_bytes_sent'] = # extract push bytes sent\n",
    "\n",
    "\n",
    "    return features"
   ]
  },
  {
   "cell_type": "code",
   "execution_count": 55,
   "metadata": {},
   "outputs": [
    {
     "name": "stdout",
     "output_type": "stream",
     "text": [
      "An error occurred: name 'extract_features_from_packet' is not defined\n"
     ]
    }
   ],
   "source": [
    "\n",
    "try:\n",
    "    sniff(filter=\"tcp\", prn=handle_packet, store=False, promisc=False)\n",
    "except Exception as e:\n",
    "    print(f\"An error occurred: {e}\")"
   ]
  },
  {
   "cell_type": "code",
   "execution_count": null,
   "metadata": {},
   "outputs": [],
   "source": []
  }
 ],
 "metadata": {
  "kernelspec": {
   "display_name": "Python 3",
   "language": "python",
   "name": "python3"
  },
  "language_info": {
   "codemirror_mode": {
    "name": "ipython",
    "version": 3
   },
   "file_extension": ".py",
   "mimetype": "text/x-python",
   "name": "python",
   "nbconvert_exporter": "python",
   "pygments_lexer": "ipython3",
   "version": "3.12.0"
  }
 },
 "nbformat": 4,
 "nbformat_minor": 2
}
